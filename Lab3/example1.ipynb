{
 "cells": [
  {
   "cell_type": "markdown",
   "metadata": {},
   "source": [
    "#Task 1: Try the algo on Dataset1 - OneHotEncoding of features: and Train test Division 70%-30%"
   ]
  },
  {
   "cell_type": "code",
   "execution_count": 1,
   "metadata": {},
   "outputs": [],
   "source": [
    "import numpy as np\n",
    "import pandas as pd\n",
    "import matplotlib.pyplot as plt\n",
    "from sklearn import datasets, preprocessing\n",
    "from sklearn.naive_bayes import GaussianNB, MultinomialNB\n",
    "from sklearn.preprocessing import OneHotEncoder, LabelEncoder"
   ]
  },
  {
   "cell_type": "code",
   "execution_count": 2,
   "metadata": {},
   "outputs": [],
   "source": [
    "data = pd.read_csv(\"PracticeDataSets/Dataset1.csv\")\n",
    "Y = LabelEncoder().fit_transform(data['Play'])\n",
    "features = data.drop(['Play'],axis=1)"
   ]
  },
  {
   "cell_type": "code",
   "execution_count": 3,
   "metadata": {},
   "outputs": [
    {
     "name": "stdout",
     "output_type": "stream",
     "text": [
      "\n",
      "\n",
      " Data :\n",
      "     O  R  S  C  H  M  High  Low  Normal  F  T\n",
      "0   0  1  0  0  1  0     0    0       1  1  0\n",
      "1   0  1  0  0  1  0     1    0       0  0  1\n",
      "2   1  0  0  0  1  0     0    0       1  1  0\n",
      "3   0  0  1  0  0  1     0    0       1  1  0\n",
      "4   0  0  1  1  0  0     0    0       1  1  0\n",
      "5   0  0  1  1  0  0     0    1       0  0  1\n",
      "6   1  0  0  1  0  0     0    0       1  0  1\n",
      "7   0  1  0  0  0  1     0    0       1  1  0\n",
      "8   0  1  0  1  0  0     0    1       0  1  0\n",
      "9   0  0  1  0  0  1     1    0       0  1  0\n",
      "10  0  1  0  0  0  1     1    0       0  0  1\n",
      "11  1  0  0  0  0  1     0    1       0  0  1\n",
      "12  1  0  0  0  1  0     0    0       1  1  0\n",
      "13  0  0  1  0  0  1     0    0       1  0  1\n"
     ]
    }
   ],
   "source": [
    "for i in features.columns:\n",
    "    dummy = pd.get_dummies(features[i])\n",
    "    features = features.drop([i],axis=1)\n",
    "    features = pd.concat([features,dummy],axis=1)\n",
    "print(\"\\n\\n Data :\\n\",features)"
   ]
  },
  {
   "cell_type": "code",
   "execution_count": 4,
   "metadata": {},
   "outputs": [
    {
     "data": {
      "text/plain": [
       "MultinomialNB()"
      ]
     },
     "execution_count": 4,
     "metadata": {},
     "output_type": "execute_result"
    }
   ],
   "source": [
    "from sklearn.model_selection import train_test_split\n",
    "\n",
    "data_train, data_test, target_train, target_test = train_test_split(features, Y, test_size = 0.30, random_state = 13)\n",
    "\n",
    "model = MultinomialNB()\n",
    "model.fit(data_train, target_train)"
   ]
  },
  {
   "cell_type": "code",
   "execution_count": 6,
   "metadata": {},
   "outputs": [
    {
     "name": "stdout",
     "output_type": "stream",
     "text": [
      "Accuracy is :-  0.4\n",
      "precision :-  0.6666666666666666\n",
      "recall :-  0.5\n",
      "final prediction :-  [0]\n",
      "final prediction :-  [1]\n"
     ]
    }
   ],
   "source": [
    "\n",
    "from sklearn import metrics\n",
    "from sklearn.metrics import precision_score\n",
    "from sklearn.metrics import recall_score\n",
    "\n",
    "target_predicted = model.predict(data_test)\n",
    "\n",
    "print(\"Accuracy is :- \",metrics.accuracy_score(target_test, target_predicted))\n",
    "\n",
    "precision = precision_score(target_test, target_predicted)\n",
    "recall = recall_score(target_test, target_predicted)\n",
    "\n",
    "print(\"precision :- \",precision)\n",
    "print(\"recall :- \",recall)\n",
    "\n",
    "\n",
    "#(1) What will be the value of Play, if Outlook is ’Rainy’, Temperature is ’Mild’, Humidity =’Normal’, and Wind = ’False’?\n",
    "\n",
    "#(2) What will be the value of Play, if Outlook is ’Sunny’, Temprature is ’Cool’, Humidity =’High’, and Wind = ’True’?\n",
    "\n",
    "output = model.predict([[0,1,0,0,1,0,0,0,1,1,0]])\n",
    "print(\"final prediction :- \",output)\n",
    "\n",
    "output = model.predict([[0,0,1,1,0,0,1,0,0,0,1]])\n",
    "print(f\"final prediction :- \",output)"
   ]
  },
  {
   "cell_type": "code",
   "execution_count": null,
   "metadata": {},
   "outputs": [],
   "source": []
  }
 ],
 "metadata": {
  "kernelspec": {
   "display_name": "Python 3",
   "language": "python",
   "name": "python3"
  },
  "language_info": {
   "codemirror_mode": {
    "name": "ipython",
    "version": 3
   },
   "file_extension": ".py",
   "mimetype": "text/x-python",
   "name": "python",
   "nbconvert_exporter": "python",
   "pygments_lexer": "ipython3",
   "version": "3.7.6"
  }
 },
 "nbformat": 4,
 "nbformat_minor": 4
}
