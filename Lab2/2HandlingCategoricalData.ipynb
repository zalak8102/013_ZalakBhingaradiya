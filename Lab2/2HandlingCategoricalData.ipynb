{
 "cells": [
  {
   "cell_type": "code",
   "execution_count": 1,
   "metadata": {},
   "outputs": [
    {
     "name": "stdout",
     "output_type": "stream",
     "text": [
      "\n",
      "Data :\n",
      "     Country  Age  Salary Purchased\n",
      "0    France   44   72000        No\n",
      "1     Spain   27   48000       Yes\n",
      "2   Germany   30   54000        No\n",
      "3     Spain   38   61000        No\n",
      "4   Germany   40   68000       Yes\n",
      "5    France   35   58000       Yes\n",
      "6     Spain   39   52000        No\n",
      "7    France   48   79000       Yes\n",
      "8   Germany   50   83000        No\n",
      "9    France   37   67000       Yes\n",
      "10    Spain   45   55000        No\n",
      "\n",
      "Data statistics\n",
      "              Age        Salary\n",
      "count  11.000000     11.000000\n",
      "mean   39.363636  63363.636364\n",
      "std     7.131237  11386.594989\n",
      "min    27.000000  48000.000000\n",
      "25%    36.000000  54500.000000\n",
      "50%    39.000000  61000.000000\n",
      "75%    44.500000  70000.000000\n",
      "max    50.000000  83000.000000\n"
     ]
    }
   ],
   "source": [
    "# Step 1: Import Libraries\n",
    "\n",
    "import numpy as np \n",
    "import pandas as pd\n",
    "from sklearn.preprocessing import LabelEncoder,OneHotEncoder\n",
    "\n",
    "# Step 2: Load Data\n",
    "        \n",
    "datasets = pd.read_csv('Datasets/Data_for_Categorical_Values.csv') \n",
    "print(\"\\nData :\\n\",datasets)\n",
    "print(\"\\nData statistics\\n\",datasets.describe())"
   ]
  },
  {
   "cell_type": "code",
   "execution_count": 2,
   "metadata": {},
   "outputs": [
    {
     "name": "stdout",
     "output_type": "stream",
     "text": [
      "\n",
      "\n",
      "Input : \n",
      " [['France' 44 72000]\n",
      " ['Spain' 27 48000]\n",
      " ['Germany' 30 54000]\n",
      " ['Spain' 38 61000]\n",
      " ['Germany' 40 68000]\n",
      " ['France' 35 58000]\n",
      " ['Spain' 39 52000]\n",
      " ['France' 48 79000]\n",
      " ['Germany' 50 83000]\n",
      " ['France' 37 67000]\n",
      " ['Spain' 45 55000]]\n",
      "\n",
      "\n",
      "Output: \n",
      " ['No' 'Yes' 'No' 'No' 'Yes' 'Yes' 'No' 'Yes' 'No' 'Yes' 'No']\n"
     ]
    }
   ],
   "source": [
    "# Step 3: Seprate Input and Output attributes\n",
    "\n",
    "# All rows, all columns except last \n",
    "X = datasets.iloc[:, :-1].values \n",
    "  \n",
    "# Only last column  \n",
    "Y = datasets.iloc[:, -1].values \n",
    "\n",
    "print(\"\\n\\nInput : \\n\", X) \n",
    "print(\"\\n\\nOutput: \\n\", Y) "
   ]
  },
  {
   "cell_type": "code",
   "execution_count": 3,
   "metadata": {},
   "outputs": [
    {
     "name": "stdout",
     "output_type": "stream",
     "text": [
      "\n",
      "\n",
      "Input : \n",
      " [[0 44 72000]\n",
      " [2 27 48000]\n",
      " [1 30 54000]\n",
      " [2 38 61000]\n",
      " [1 40 68000]\n",
      " [0 35 58000]\n",
      " [2 39 52000]\n",
      " [0 48 79000]\n",
      " [1 50 83000]\n",
      " [0 37 67000]\n",
      " [2 45 55000]]\n"
     ]
    }
   ],
   "source": [
    "# Step 4a: Apply LabelEncoder on the data \n",
    "#          to convert country names into numeric values\n",
    "\n",
    "le = LabelEncoder()\n",
    "X[ : ,0] = le.fit_transform(X[ : ,0])\n",
    "print(\"\\n\\nInput : \\n\", X) "
   ]
  },
  {
   "cell_type": "code",
   "execution_count": 4,
   "metadata": {},
   "outputs": [
    {
     "name": "stdout",
     "output_type": "stream",
     "text": [
      "\n",
      "\n",
      "Dummy :\n",
      "     France  Germany  Spain\n",
      "0        1        0      0\n",
      "1        0        0      1\n",
      "2        0        1      0\n",
      "3        0        0      1\n",
      "4        0        1      0\n",
      "5        1        0      0\n",
      "6        0        0      1\n",
      "7        1        0      0\n",
      "8        0        1      0\n",
      "9        1        0      0\n",
      "10       0        0      1\n",
      "\n",
      "\n",
      "Final Data :\n",
      "     France  Germany  Spain  Age  Salary\n",
      "0        1        0      0   44   72000\n",
      "1        0        0      1   27   48000\n",
      "2        0        1      0   30   54000\n",
      "3        0        0      1   38   61000\n",
      "4        0        1      0   40   68000\n",
      "5        1        0      0   35   58000\n",
      "6        0        0      1   39   52000\n",
      "7        1        0      0   48   79000\n",
      "8        0        1      0   50   83000\n",
      "9        1        0      0   37   67000\n",
      "10       0        0      1   45   55000\n"
     ]
    }
   ],
   "source": [
    "# Step 4b: Use dummy variables from pandas library\n",
    "#          to create one column for each country\n",
    "\n",
    "dummy = pd.get_dummies(datasets['Country'])\n",
    "print(\"\\n\\nDummy :\\n\",dummy)\n",
    "datasets = datasets.drop(['Country','Purchased'],axis=1)\n",
    "datasets = pd.concat([dummy,datasets],axis=1)\n",
    "print(\"\\n\\nFinal Data :\\n\",datasets)"
   ]
  },
  {
   "cell_type": "code",
   "execution_count": null,
   "metadata": {},
   "outputs": [],
   "source": []
  }
 ],
 "metadata": {
  "kernelspec": {
   "display_name": "Python 3",
   "language": "python",
   "name": "python3"
  },
  "language_info": {
   "codemirror_mode": {
    "name": "ipython",
    "version": 3
   },
   "file_extension": ".py",
   "mimetype": "text/x-python",
   "name": "python",
   "nbconvert_exporter": "python",
   "pygments_lexer": "ipython3",
   "version": "3.7.6"
  }
 },
 "nbformat": 4,
 "nbformat_minor": 4
}
