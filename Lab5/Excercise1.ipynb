{
 "cells": [
  {
   "cell_type": "code",
   "execution_count": 1,
   "metadata": {},
   "outputs": [],
   "source": [
    "import numpy as np\n",
    "from sklearn.metrics import mean_squared_error\n",
    "import matplotlib.pyplot as plt"
   ]
  },
  {
   "cell_type": "code",
   "execution_count": 2,
   "metadata": {
    "pycharm": {
     "name": "#%%\n"
    }
   },
   "outputs": [],
   "source": [
    "# Input (temp, rainfall, humidity)\n",
    "inputs = np.array(\n",
    "    [[73, 67, 43], [91, 88, 64], [87, 134, 58], [102, 43, 37], [69, 96, 70], [73, 67, 43], [91, 88, 64], [87, 134, 58],\n",
    "     [102, 43, 37], [69, 96, 70], [73, 67, 43], [91, 88, 64], [87, 134, 58], [102, 43, 37], [69, 96, 70]],\n",
    "    dtype='float32')\n",
    "# Targets (apples, oranges)\n",
    "targets = np.array([[56, 70], [81, 101], [119, 133], [22, 37], [103, 119],\n",
    "                    [56, 70], [81, 101], [119, 133], [22, 37], [103, 119],\n",
    "                    [56, 70], [81, 101], [119, 133], [22, 37], [103, 119]], dtype='float32')"
   ]
  },
  {
   "cell_type": "code",
   "execution_count": 3,
   "metadata": {
    "pycharm": {
     "name": "#%%\n"
    }
   },
   "outputs": [],
   "source": [
    "mu = np.mean(inputs, 0)\n",
    "sigma = np.std(inputs, 0)\n",
    "inputs = (inputs-mu)/sigma"
   ]
  },
  {
   "cell_type": "code",
   "execution_count": 4,
   "metadata": {
    "pycharm": {
     "name": "#%%\n"
    }
   },
   "outputs": [],
   "source": [
    "# Weights and biases\n",
    "W = np.random.rand(2, 3)\n",
    "B = np.random.rand(2)"
   ]
  },
  {
   "cell_type": "code",
   "execution_count": 5,
   "metadata": {
    "pycharm": {
     "name": "#%%\n"
    }
   },
   "outputs": [],
   "source": [
    "# Define the model\n",
    "def model(x,w=W, b=B):\n",
    "    return x @ w.T + b"
   ]
  },
  {
   "cell_type": "code",
   "execution_count": 6,
   "metadata": {
    "pycharm": {
     "name": "#%%\n"
    }
   },
   "outputs": [
    {
     "data": {
      "text/plain": [
       "array([[-1.60629967, -1.4148232 ],\n",
       "       [ 1.63189841,  2.09737628],\n",
       "       [ 1.90787295,  2.56197703],\n",
       "       [-0.77948313, -0.07188826],\n",
       "       [ 0.89691607,  0.91033619],\n",
       "       [-1.60629967, -1.4148232 ],\n",
       "       [ 1.63189841,  2.09737628],\n",
       "       [ 1.90787295,  2.56197703],\n",
       "       [-0.77948313, -0.07188826],\n",
       "       [ 0.89691607,  0.91033619],\n",
       "       [-1.60629967, -1.4148232 ],\n",
       "       [ 1.63189841,  2.09737628],\n",
       "       [ 1.90787295,  2.56197703],\n",
       "       [-0.77948313, -0.07188826],\n",
       "       [ 0.89691607,  0.91033619]])"
      ]
     },
     "execution_count": 6,
     "metadata": {},
     "output_type": "execute_result"
    }
   ],
   "source": [
    "preds = model(inputs)\n",
    "preds"
   ]
  },
  {
   "cell_type": "code",
   "execution_count": 7,
   "metadata": {
    "pycharm": {
     "name": "#%%\n"
    }
   },
   "outputs": [
    {
     "data": {
      "text/plain": [
       "8148.766951521912"
      ]
     },
     "execution_count": 7,
     "metadata": {},
     "output_type": "execute_result"
    }
   ],
   "source": [
    "loss = mean_squared_error(preds, targets)\n",
    "loss"
   ]
  },
  {
   "cell_type": "code",
   "execution_count": 8,
   "metadata": {
    "pycharm": {
     "name": "#%%\n"
    }
   },
   "outputs": [],
   "source": [
    "def gradient_descent(X, Y, W, B, learning_rate, n_iters):\n",
    "    JTheta = np.zeros((n_iters, 1))\n",
    "    for i in range(n_iters):\n",
    "        h = model(X, W, B)\n",
    "        diff = h - Y\n",
    "        delta = (learning_rate / Y.size) * (X.T @ diff)\n",
    "        W = W - delta.T\n",
    "        delta = (learning_rate / Y.size) * (np.ones([1, 15]) @ diff)\n",
    "        B = B - delta\n",
    "        JTheta[i] = mean_squared_error(h, Y)\n",
    "    return JTheta, W, B"
   ]
  },
  {
   "cell_type": "code",
   "execution_count": 9,
   "metadata": {
    "pycharm": {
     "name": "#%%\n"
    }
   },
   "outputs": [
    {
     "name": "stdout",
     "output_type": "stream",
     "text": [
      "[[-4.71342893 21.45969479 12.46651973]\n",
      " [-3.90376495 20.87720275 13.99960568]]\n",
      "[[70.0176835  84.56200032]]\n"
     ]
    }
   ],
   "source": [
    "JTheta, W, B = gradient_descent(inputs, targets, W, B, 0.01, 500)\n",
    "print(W)\n",
    "print(B)"
   ]
  },
  {
   "cell_type": "code",
   "execution_count": 10,
   "metadata": {
    "pycharm": {
     "name": "#%%\n"
    }
   },
   "outputs": [
    {
     "data": {
      "text/plain": [
       "array([[ 49.96832535,  62.70559131],\n",
       "       [ 78.70760402,  94.82646935],\n",
       "       [106.77139173, 121.0040576 ],\n",
       "       [ 15.70148053,  30.10986017],\n",
       "       [ 98.93961574, 114.1640214 ],\n",
       "       [ 49.96832535,  62.70559131],\n",
       "       [ 78.70760402,  94.82646935],\n",
       "       [106.77139173, 121.0040576 ],\n",
       "       [ 15.70148053,  30.10986017],\n",
       "       [ 98.93961574, 114.1640214 ],\n",
       "       [ 49.96832535,  62.70559131],\n",
       "       [ 78.70760402,  94.82646935],\n",
       "       [106.77139173, 121.0040576 ],\n",
       "       [ 15.70148053,  30.10986017],\n",
       "       [ 98.93961574, 114.1640214 ]])"
      ]
     },
     "execution_count": 10,
     "metadata": {},
     "output_type": "execute_result"
    }
   ],
   "source": [
    "preds = model(inputs, W, B)\n",
    "preds"
   ]
  },
  {
   "cell_type": "code",
   "execution_count": 11,
   "metadata": {
    "pycharm": {
     "name": "#%%\n"
    }
   },
   "outputs": [
    {
     "data": {
      "text/plain": [
       "55.34173354396335"
      ]
     },
     "execution_count": 11,
     "metadata": {},
     "output_type": "execute_result"
    }
   ],
   "source": [
    "loss = mean_squared_error(preds, targets)\n",
    "loss"
   ]
  },
  {
   "cell_type": "code",
   "execution_count": 12,
   "metadata": {
    "pycharm": {
     "name": "#%%\n"
    }
   },
   "outputs": [],
   "source": [
    "def plot_loss(JTheta):\n",
    "  plt.plot(JTheta, label='loss')\n",
    "  plt.ylim([min(JTheta), max(JTheta)])\n",
    "  plt.xlabel('Epoch')\n",
    "  plt.ylabel('Error [MSE]')\n",
    "  plt.legend()\n",
    "  plt.grid(True)"
   ]
  },
  {
   "cell_type": "code",
   "execution_count": 13,
   "metadata": {
    "pycharm": {
     "name": "#%%\n"
    }
   },
   "outputs": [
    {
     "data": {
      "image/png": "[encoded data removed]",
      "text/plain": [
       "<Figure size 432x288 with 1 Axes>"
      ]
     },
     "metadata": {
      "needs_background": "light"
     },
     "output_type": "display_data"
    }
   ],
   "source": [
    "plot_loss(JTheta)"
   ]
  },
  {
   "cell_type": "code",
   "execution_count": null,
   "metadata": {},
   "outputs": [],
   "source": []
  }
 ],
 "metadata": {
  "kernelspec": {
   "display_name": "Python 3",
   "language": "python",
   "name": "python3"
  },
  "language_info": {
   "codemirror_mode": {
    "name": "ipython",
    "version": 3
   },
   "file_extension": ".py",
   "mimetype": "text/x-python",
   "name": "python",
   "nbconvert_exporter": "python",
   "pygments_lexer": "ipython3",
   "version": "3.7.6"
  }
 },
 "nbformat": 4,
 "nbformat_minor": 1
}
